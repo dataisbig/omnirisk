{
 "cells": [
  {
   "cell_type": "code",
   "execution_count": 1,
   "metadata": {
    "collapsed": true
   },
   "outputs": [],
   "source": [
    "import sys\n",
    "sys.path.append('/home/lxpollara/pyvpic')\n",
    "sys.path.append('/home/lxpollara/Adas_Proj')\n",
    "from sql_alchemy_engine import session, Base\n",
    "from create_db import AccidentMaster, Vehicle\n",
    "import pandas as pd\n",
    "from vpicwrapper import pyvpic\n",
    "import matplotlib.pyplot as plt\n",
    "import seaborn as sns\n",
    "import itertools\n",
    "from scipy.stats import binom_test, chisquare\n",
    "from query_widget import TimeSeriesDashBoard\n",
    "from sqlalchemy import func\n",
    "import numpy as np"
   ]
  },
  {
   "cell_type": "code",
   "execution_count": 2,
   "metadata": {
    "collapsed": true
   },
   "outputs": [],
   "source": [
    "\n",
    "def color_negative_red(val):\n",
    "    \"\"\"\n",
    "    Takes a scalar and returns a string with\n",
    "    the css property `'color: red'` for negative\n",
    "    strings, black otherwise.\n",
    "    \"\"\"\n",
    "    color = 'green' if val < 0.05 else 'black'\n",
    "    return 'color: %s' % color"
   ]
  },
  {
   "cell_type": "code",
   "execution_count": 3,
   "metadata": {
    "collapsed": true
   },
   "outputs": [],
   "source": [
    "session.rollback()"
   ]
  },
  {
   "cell_type": "code",
   "execution_count": 4,
   "metadata": {
    "collapsed": true
   },
   "outputs": [],
   "source": [
    "# format query and bind to dataframe\n",
    "query = session.query(AccidentMaster.injuries, func.count(AccidentMaster.injuries)).filter(AccidentMaster.vehicle_config>8,\n",
    "                                                                                           AccidentMaster.vehicle_config<99,\n",
    "                                                                                           AccidentMaster.vehicles_involved<=2\n",
    "                                                                                          ).group_by(AccidentMaster.injuries)\n",
    "injuries = pd.read_sql(query.statement,query.session.bind)\n",
    "injuries['Rate'] = injuries.count_1/float(injuries.count_1.sum())\n",
    "\n",
    "avg_glob = (injuries.count_1*injuries.injuries).sum()/float(injuries.count_1.sum())\n",
    "\n",
    "injuries.iloc[10]=injuries.iloc[10:].sum()\n",
    "injuries.drop(injuries.index[11:], inplace=True)\n",
    "injuries.loc[10, 'injuries']=10"
   ]
  },
  {
   "cell_type": "code",
   "execution_count": 5,
   "metadata": {
    "collapsed": true
   },
   "outputs": [],
   "source": [
    "def get_mm(make, model):\n",
    "    query = session.query(AccidentMaster.injuries, Vehicle.year, AccidentMaster.vehicles_involved).filter(AccidentMaster.vin==Vehicle.vin, \n",
    "                                                            Vehicle.make==make, \n",
    "                                                            Vehicle.model==model)\n",
    "    \n",
    "    return pd.read_sql(query.statement,query.session.bind)\n",
    "                                                                                                           "
   ]
  },
  {
   "cell_type": "code",
   "execution_count": 6,
   "metadata": {},
   "outputs": [
    {
     "data": {
      "application/vnd.jupyter.widget-view+json": {
       "model_id": "e61b2487e75a4a6fa388a5a1e7c39719",
       "version_major": 2,
       "version_minor": 0
      },
      "text/plain": [
       "A Jupyter Widget"
      ]
     },
     "metadata": {},
     "output_type": "display_data"
    },
    {
     "data": {
      "text/plain": [
       "<query_widget.TimeSeriesDashBoard instance at 0x7f22a8223050>"
      ]
     },
     "execution_count": 6,
     "metadata": {},
     "output_type": "execute_result"
    }
   ],
   "source": [
    "TimeSeriesDashBoard()"
   ]
  },
  {
   "cell_type": "code",
   "execution_count": 7,
   "metadata": {
    "collapsed": true
   },
   "outputs": [],
   "source": [
    "make = 'KENWORTH'\n",
    "model = 'T680'"
   ]
  },
  {
   "cell_type": "code",
   "execution_count": 8,
   "metadata": {
    "collapsed": true,
    "scrolled": true
   },
   "outputs": [],
   "source": [
    "mm = get_mm(make, model)"
   ]
  },
  {
   "cell_type": "code",
   "execution_count": 10,
   "metadata": {},
   "outputs": [
    {
     "data": {
      "text/plain": [
       "2015.0    2645\n",
       "2016.0    2503\n",
       "2014.0    1761\n",
       "2017.0    1064\n",
       "2013.0     145\n",
       "2018.0     142\n",
       "2006.0       9\n",
       "1993.0       2\n",
       "2004.0       2\n",
       "2005.0       1\n",
       "2007.0       1\n",
       "2012.0       1\n",
       "2001.0       1\n",
       "1999.0       1\n",
       "1995.0       1\n",
       "2008.0       1\n",
       "1989.0       1\n",
       "2009.0       1\n",
       "2011.0       1\n",
       "2003.0       1\n",
       "Name: year, dtype: int64"
      ]
     },
     "execution_count": 10,
     "metadata": {},
     "output_type": "execute_result"
    }
   ],
   "source": [
    "mm.year.value_counts()"
   ]
  },
  {
   "cell_type": "code",
   "execution_count": 11,
   "metadata": {},
   "outputs": [
    {
     "name": "stdout",
     "output_type": "stream",
     "text": [
      "   injuries   count_1      Rate  injuries_sub  Rate_sub\n",
      "0       0.0  178391.0  0.678393        4889.0  0.707116\n",
      "1       1.0   84570.0  0.321607        2025.0  0.292884\n",
      "Power_divergenceResult(statistic=26.143936125061465, pvalue=3.1689070076535835e-07)\n"
     ]
    }
   ],
   "source": [
    "ir_glob = pd.DataFrame(mm[(mm['vehicles_involved']<=2)].injuries.value_counts())\n",
    "ir_glob = injuries.join(ir_glob, rsuffix='_sub').fillna(0)\n",
    "ir_glob.iloc[1]=ir_glob.iloc[1:].sum()\n",
    "ir_glob.drop(ir_glob.index[2:], inplace=True)\n",
    "ir_glob['Rate_sub'] = ir_glob.injuries_sub/float(ir_glob.injuries_sub.sum())\n",
    "ir_glob.loc[1,'injuries']=1\n",
    "print ir_glob\n",
    "print chisquare(ir_glob.injuries_sub.values, ir_glob.injuries_sub.sum()*ir_glob.Rate.values)"
   ]
  },
  {
   "cell_type": "code",
   "execution_count": 12,
   "metadata": {},
   "outputs": [
    {
     "data": {
      "image/png": "[encoded data removed]",
      "text/plain": [
       "<matplotlib.figure.Figure at 0x7f227b3592d0>"
      ]
     },
     "metadata": {},
     "output_type": "display_data"
    }
   ],
   "source": [
    "pop_rate = []\n",
    "sub_rate = []\n",
    "sig = []\n",
    "sig_glob = []\n",
    "mm=mm.dropna(subset=['year'], axis=0)\n",
    "years = mm.year.unique()\n",
    "years.sort()\n",
    "years = years[-6:]\n",
    "for year in years:\n",
    "    ir = pd.DataFrame(mm[(mm['vehicles_involved']<=2)&(mm['year']!=year)].injuries.value_counts())\n",
    "    ir = ir.join(mm[(mm['vehicles_involved']<=2)&(mm['year']==year)].injuries.value_counts(), rsuffix='_sub').fillna(0).astype(int)\n",
    "\n",
    "    ir.iloc[1]=ir.iloc[1:].sum()\n",
    "    ir.drop(ir.index[2:], inplace=True)\n",
    "    ir['rate'] = ir.injuries/ir.injuries.sum()\n",
    "    pop_rate.append(float(ir.injuries[0])/ir.injuries.sum())\n",
    "    sub_rate.append(float(ir.injuries_sub[0])/ir.injuries_sub.sum())\n",
    "\n",
    "    sig.append(chisquare(ir.injuries_sub.values, ir.injuries_sub.sum()*ir.rate.values)[1])\n",
    "    sig_glob.append(chisquare(ir.injuries_sub.values, ir.injuries_sub.sum()*ir_glob.Rate.values)[1])\n",
    "    \n",
    "\n",
    "    \n",
    "ax=plt.subplot()\n",
    "ax.axhline(injuries.iloc[0].Rate, color='k', ls='--', label='Global')\n",
    "results = pd.DataFrame([years, pop_rate, sub_rate, sig], index = ['year', 'MM', 'MMY', 'sig']).T\n",
    "results.plot(x='year', y=['MM','MMY'], kind = 'bar', ax=ax)\n",
    "plt.title('%s %s'%(make,model))\n",
    "\n",
    "for i in ax.get_xticklabels():\n",
    "    if results[results['year']==float(i.get_text())].sig.values<=.01:\n",
    "        i.set_color('b')\n",
    "    elif results[results['year']==float(i.get_text())].sig.values<=.05:\n",
    "        i.set_color('g')\n",
    "    elif results[results['year']==float(i.get_text())].sig.values>.1:\n",
    "        i.set_color('r')\n",
    "plt.ylim(.60,1)\n",
    "plt.ylabel('Zero Injury Rate')\n",
    "plt.show()"
   ]
  },
  {
   "cell_type": "code",
   "execution_count": 13,
   "metadata": {
    "scrolled": true
   },
   "outputs": [
    {
     "data": {
      "text/html": [
       "<style  type=\"text/css\" >\n",
       "    #T_f42838d8_1023_11e8_bd17_42010a8e0002row0_col0 {\n",
       "            color:  black;\n",
       "        }    #T_f42838d8_1023_11e8_bd17_42010a8e0002row0_col1 {\n",
       "            color:  green;\n",
       "        }    #T_f42838d8_1023_11e8_bd17_42010a8e0002row0_col2 {\n",
       "            color:  green;\n",
       "        }    #T_f42838d8_1023_11e8_bd17_42010a8e0002row0_col3 {\n",
       "            color:  green;\n",
       "        }    #T_f42838d8_1023_11e8_bd17_42010a8e0002row0_col4 {\n",
       "            color:  green;\n",
       "        }    #T_f42838d8_1023_11e8_bd17_42010a8e0002row0_col5 {\n",
       "            color:  black;\n",
       "        }    #T_f42838d8_1023_11e8_bd17_42010a8e0002row1_col0 {\n",
       "            color:  green;\n",
       "        }    #T_f42838d8_1023_11e8_bd17_42010a8e0002row1_col1 {\n",
       "            color:  black;\n",
       "        }    #T_f42838d8_1023_11e8_bd17_42010a8e0002row1_col2 {\n",
       "            color:  black;\n",
       "        }    #T_f42838d8_1023_11e8_bd17_42010a8e0002row1_col3 {\n",
       "            color:  black;\n",
       "        }    #T_f42838d8_1023_11e8_bd17_42010a8e0002row1_col4 {\n",
       "            color:  black;\n",
       "        }    #T_f42838d8_1023_11e8_bd17_42010a8e0002row1_col5 {\n",
       "            color:  black;\n",
       "        }</style>  \n",
       "<table id=\"T_f42838d8_1023_11e8_bd17_42010a8e0002\" > \n",
       "<thead>    <tr> \n",
       "        <th class=\"blank level0\" ></th> \n",
       "        <th class=\"col_heading level0 col0\" >2013.0</th> \n",
       "        <th class=\"col_heading level0 col1\" >2014.0</th> \n",
       "        <th class=\"col_heading level0 col2\" >2015.0</th> \n",
       "        <th class=\"col_heading level0 col3\" >2016.0</th> \n",
       "        <th class=\"col_heading level0 col4\" >2017.0</th> \n",
       "        <th class=\"col_heading level0 col5\" >2018.0</th> \n",
       "    </tr></thead> \n",
       "<tbody>    <tr> \n",
       "        <th id=\"T_f42838d8_1023_11e8_bd17_42010a8e0002level0_row0\" class=\"row_heading level0 row0\" >global pvalue</th> \n",
       "        <td id=\"T_f42838d8_1023_11e8_bd17_42010a8e0002row0_col0\" class=\"data row0 col0\" >0.144532</td> \n",
       "        <td id=\"T_f42838d8_1023_11e8_bd17_42010a8e0002row0_col1\" class=\"data row0 col1\" >0.0228367</td> \n",
       "        <td id=\"T_f42838d8_1023_11e8_bd17_42010a8e0002row0_col2\" class=\"data row0 col2\" >0.0107449</td> \n",
       "        <td id=\"T_f42838d8_1023_11e8_bd17_42010a8e0002row0_col3\" class=\"data row0 col3\" >0.000137602</td> \n",
       "        <td id=\"T_f42838d8_1023_11e8_bd17_42010a8e0002row0_col4\" class=\"data row0 col4\" >0.0343508</td> \n",
       "        <td id=\"T_f42838d8_1023_11e8_bd17_42010a8e0002row0_col5\" class=\"data row0 col5\" >0.59235</td> \n",
       "    </tr>    <tr> \n",
       "        <th id=\"T_f42838d8_1023_11e8_bd17_42010a8e0002level0_row1\" class=\"row_heading level0 row1\" >VNL only pvalue</th> \n",
       "        <td id=\"T_f42838d8_1023_11e8_bd17_42010a8e0002row1_col0\" class=\"data row1 col0\" >0.026153</td> \n",
       "        <td id=\"T_f42838d8_1023_11e8_bd17_42010a8e0002row1_col1\" class=\"data row1 col1\" >0.896232</td> \n",
       "        <td id=\"T_f42838d8_1023_11e8_bd17_42010a8e0002row1_col2\" class=\"data row1 col2\" >0.615676</td> \n",
       "        <td id=\"T_f42838d8_1023_11e8_bd17_42010a8e0002row1_col3\" class=\"data row1 col3\" >0.150644</td> \n",
       "        <td id=\"T_f42838d8_1023_11e8_bd17_42010a8e0002row1_col4\" class=\"data row1 col4\" >0.737818</td> \n",
       "        <td id=\"T_f42838d8_1023_11e8_bd17_42010a8e0002row1_col5\" class=\"data row1 col5\" >0.209894</td> \n",
       "    </tr></tbody> \n",
       "</table> "
      ],
      "text/plain": [
       "<pandas.io.formats.style.Styler at 0x7f227b292c90>"
      ]
     },
     "execution_count": 13,
     "metadata": {},
     "output_type": "execute_result"
    }
   ],
   "source": [
    "s = pd.DataFrame([sig_glob, sig], columns =list(years) , index = ['global pvalue', 'VNL only pvalue']).style.applymap(color_negative_red)\n",
    "s"
   ]
  },
  {
   "cell_type": "code",
   "execution_count": null,
   "metadata": {
    "collapsed": true
   },
   "outputs": [],
   "source": []
  }
 ],
 "metadata": {
  "kernelspec": {
   "display_name": "Python 2",
   "language": "python",
   "name": "python2"
  },
  "language_info": {
   "codemirror_mode": {
    "name": "ipython",
    "version": 2
   },
   "file_extension": ".py",
   "mimetype": "text/x-python",
   "name": "python",
   "nbconvert_exporter": "python",
   "pygments_lexer": "ipython2",
   "version": "2.7.14"
  }
 },
 "nbformat": 4,
 "nbformat_minor": 2
}
