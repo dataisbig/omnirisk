{
 "cells": [
  {
   "cell_type": "code",
   "execution_count": 1,
   "metadata": {
    "collapsed": true
   },
   "outputs": [],
   "source": [
    "import sys\n",
    "sys.path.append('/home/lxpollara/pyvpic')\n",
    "sys.path.append('/home/lxpollara/Adas_Proj')\n",
    "from sql_alchemy_engine import session, Base\n",
    "from sqlalchemy import func\n",
    "from create_db import AccidentMaster, Vehicle\n",
    "import pandas as pd\n",
    "from ipywidgets import widgets, HBox, VBox\n",
    "from IPython.display import display, Image\n",
    "\n",
    "import plotly.graph_objs as go\n",
    "import plotly.plotly as py\n",
    "from plotly.offline import init_notebook_mode\n",
    "import numpy as np\n",
    "from plotly.graph_objs import *\n",
    "import plotly\n",
    "from datetime import datetime as dt\n",
    "from query_widget import DashBoard"
   ]
  },
  {
   "cell_type": "code",
   "execution_count": 2,
   "metadata": {},
   "outputs": [
    {
     "data": {
      "application/vnd.jupyter.widget-view+json": {
       "model_id": "087fc106f7b14ad6b025b4bc7d050c0f",
       "version_major": 2,
       "version_minor": 0
      },
      "text/plain": [
       "A Jupyter Widget"
      ]
     },
     "metadata": {},
     "output_type": "display_data"
    }
   ],
   "source": [
    "d=DashBoard()"
   ]
  },
  {
   "cell_type": "code",
   "execution_count": 7,
   "metadata": {},
   "outputs": [
    {
     "data": {
      "application/vnd.jupyter.widget-view+json": {
       "model_id": "00645ed2aecc45bcbe4c8d1ae926dbaf",
       "version_major": 2,
       "version_minor": 0
      },
      "text/plain": [
       "A Jupyter Widget"
      ]
     },
     "metadata": {},
     "output_type": "display_data"
    },
    {
     "data": {
      "text/plain": [
       "<__main__.plot_selection instance at 0x7f1af2784cb0>"
      ]
     },
     "execution_count": 7,
     "metadata": {},
     "output_type": "execute_result"
    },
    {
     "data": {
      "text/html": [
       "<iframe id=\"igraph\" scrolling=\"no\" style=\"border:none;\" seamless=\"seamless\" src=\"https://plot.ly/~lxpollara/15.embed\" height=\"525px\" width=\"100%\"></iframe>"
      ],
      "text/plain": [
       "<plotly.tools.PlotlyDisplay object>"
      ]
     },
     "metadata": {},
     "output_type": "display_data"
    }
   ],
   "source": [
    "class plot_selection:\n",
    "    def __init__(self,d):\n",
    "        self.d = d\n",
    "        self.plot_type = widgets.Dropdown(\n",
    "            options=['Time Series', 'Scatter'],\n",
    "            description='Plot Selection', disabled=False)\n",
    "        self.X = widgets.Dropdown(\n",
    "            options=d.accidents1.columns,\n",
    "            description='X-axis',\n",
    "            disabled=True)\n",
    "        self.Y = widgets.Dropdown(\n",
    "            options=d.accidents1.columns,\n",
    "            description='Y-axis',\n",
    "            disabled=True)\n",
    "        self.run = widgets.Button(\n",
    "            description='Plot',\n",
    "            disabled=True)\n",
    "        \n",
    "        self.plot_type.observe(self.select_plot, 'value')\n",
    "        self.run.on_clicked(self.display_plot, 'message')\n",
    "        \n",
    "        display(VBox([HBox([self.plot_type]),\n",
    "                HBox([self.X, self.Y]),\n",
    "                     HBox([self.run])]))\n",
    "        \n",
    "    def select_plot(self, selection):\n",
    "        # returns plotly data obj\n",
    "        \n",
    "        # needs to turn on selectors \n",
    "        if selection['new']==\"Time Series\":\n",
    "            self.plt = accident_time_series({'{0} {1} {2}'.format(d.make1.value, d.model1.value, d.year1.value):d.accidents1.report_date.values,\n",
    "                     '{0} {1} {2}'.format(d.make2.value, d.model2.value, d.year2.value):d.accidents2.report_date.values,})\n",
    "        elif selection['new']=='scatter':\n",
    "            self.X.options = ['vehicles_involved', 'fatalities', 'injuries']\n",
    "            self.Y.options = ['vehicles_involved', 'fatalities', 'injuries']\n",
    "            self.X.disabled=False\n",
    "            self.Y.disabled=False\n",
    "            self.plt = accident_scatter({'{0} {1} {2}'.format(d.make1.value, d.model1.value, d.year1.value):\n",
    "                                         d.accidents2[[self.X.value,self.Y.value]].values,\n",
    "                                         '{0} {1} {2}'.format(d.make2.value, d.model2.value, d.year2.value):\n",
    "                                         d.accidents2[[self.X.value,self.Y.value]].values})\n",
    "        self.run.\n",
    "    def display_plot(self,message):\n",
    "        \n",
    "plot_selection(d)       "
   ]
  },
  {
   "cell_type": "code",
   "execution_count": 5,
   "metadata": {},
   "outputs": [
    {
     "data": {
      "text/html": [
       "<iframe id=\"igraph\" scrolling=\"no\" style=\"border:none;\" seamless=\"seamless\" src=\"https://plot.ly/~lxpollara/15.embed\" height=\"525px\" width=\"100%\"></iframe>"
      ],
      "text/plain": [
       "<plotly.tools.PlotlyDisplay object>"
      ]
     },
     "metadata": {},
     "output_type": "display_data"
    }
   ],
   "source": [
    "def accident_time_series(report_dates):\n",
    "    data = []\n",
    "    for report in report_dates.keys():\n",
    "    # accidents over time\n",
    "        data.append(go.Scatter(\n",
    "            x = report_dates[report],\n",
    "            y = np.arange(1, len(report_dates[report])+1),\n",
    "            name= report))\n",
    "    return data"
   ]
  },
  {
   "cell_type": "code",
   "execution_count": 6,
   "metadata": {
    "collapsed": true
   },
   "outputs": [],
   "source": [
    "session.rollback()"
   ]
  },
  {
   "cell_type": "code",
   "execution_count": 12,
   "metadata": {},
   "outputs": [
    {
     "data": {
      "text/plain": [
       "Index([u'id', u'crash_id', u'report_state', u'report_num', u'report_date',\n",
       "       u'report_time', u'report_sequence_num', u'dot_num', u'status_code',\n",
       "       u'final_status_date', u'location', u'city_code', u'city', u'state',\n",
       "       u'county_code', u'truck_bus_ind', u'trafficway_id', u'road_access',\n",
       "       u'road_surface', u'cargo_body_type', u'gross_vehicle_weight_range',\n",
       "       u'gross_vehicle_weight_rating', u'vin', u'license_num',\n",
       "       u'license_state', u'hazmat', u'weather_cond', u'vehicle_config',\n",
       "       u'light_cond', u'hazmat_release', u'reporting_agency',\n",
       "       u'officer_badge_num', u'vehicles_involved', u'fatalities', u'injuries',\n",
       "       u'tow_away', u'federally_recordable', u'state_recordable',\n",
       "       u'safetynet_software_version', u'safetynet_sequence_id',\n",
       "       u'transaction_code', u'transaction_date', u'upload_byte',\n",
       "       u'upload_dot_num', u'upload_search_indicator', u'upload_date',\n",
       "       u'related_factors', u'census_search_date', u'add_date', u'change_date',\n",
       "       u'changed_by_user', u'changed_by_application', u'safetynet_input_date'],\n",
       "      dtype='object')"
      ]
     },
     "execution_count": 12,
     "metadata": {},
     "output_type": "execute_result"
    }
   ],
   "source": [
    "d.accidents1.columns "
   ]
  },
  {
   "cell_type": "code",
   "execution_count": null,
   "metadata": {
    "collapsed": true
   },
   "outputs": [],
   "source": [
    "https://stats.stackexchange.com/questions/113602/test-if-two-binomial-distributions-are-statistically-different-from-each-other"
   ]
  }
 ],
 "metadata": {
  "kernelspec": {
   "display_name": "Python 2",
   "language": "python",
   "name": "python2"
  },
  "language_info": {
   "codemirror_mode": {
    "name": "ipython",
    "version": 2
   },
   "file_extension": ".py",
   "mimetype": "text/x-python",
   "name": "python",
   "nbconvert_exporter": "python",
   "pygments_lexer": "ipython2",
   "version": "2.7.14"
  }
 },
 "nbformat": 4,
 "nbformat_minor": 2
}
