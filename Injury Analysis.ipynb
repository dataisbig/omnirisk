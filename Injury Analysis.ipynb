{
 "cells": [
  {
   "cell_type": "code",
   "execution_count": 1,
   "metadata": {
    "collapsed": true
   },
   "outputs": [],
   "source": [
    "import sys\n",
    "sys.path.append('/home/lxpollara/pyvpic')\n",
    "sys.path.append('/home/lxpollara/Adas_Proj')\n",
    "from sql_alchemy_engine import session, Base\n",
    "from create_db import AccidentMaster, Vehicle\n",
    "import pandas as pd\n",
    "from vpicwrapper import pyvpic\n",
    "import matplotlib.pyplot as plt\n",
    "import seaborn as sns\n",
    "import itertools\n",
    "from scipy.stats import binom_test, chisquare, poisson, geom\n",
    "from sqlalchemy import func\n",
    "import numpy as np\n",
    "from query_widget import DashBoard"
   ]
  },
  {
   "cell_type": "markdown",
   "metadata": {},
   "source": [
    "# Calculating the Average Number of Injuries:\n",
    "The number of injuries in an accident is a discrete random variable. To compare the performance of individual vehicles to the general population we will first calculate the rates of each number of injuries for the general population of vehicles So we count the number of accidents for each number of injuries (filtered here to look only at Class 8 vehicles).the rates for each number of victims can than be compared for any subpopulation using the ChiSquared test for goodness of fit."
   ]
  },
  {
   "cell_type": "code",
   "execution_count": 2,
   "metadata": {
    "collapsed": true
   },
   "outputs": [],
   "source": [
    "# format query and bind to dataframe\n",
    "query = session.query(AccidentMaster.injuries, func.count(AccidentMaster.injuries)).filter(AccidentMaster.vehicle_config>8,\n",
    "                                                                                           AccidentMaster.vehicle_config<99,\n",
    "                                                                                          AccidentMaster.vehicles_involved<=2).group_by(AccidentMaster.injuries)\n",
    "injuries = pd.read_sql(query.statement,query.session.bind)\n",
    "injuries['Rate'] = injuries.count_1/injuries.count_1.sum()\n",
    "\n",
    "\n",
    "avg_glob = (injuries.count_1*injuries.injuries).sum()/float(injuries.count_1.sum())"
   ]
  },
  {
   "cell_type": "code",
   "execution_count": 4,
   "metadata": {},
   "outputs": [],
   "source": [
    "\n",
    "injuries.iloc[10]=injuries.iloc[10:].sum()\n",
    "injuries.drop(injuries.index[11:], inplace=True)\n",
    "injuries.loc[10, 'injuries']=10\n"
   ]
  },
  {
   "cell_type": "markdown",
   "metadata": {},
   "source": [
    "We want a concise way to compare injuries between different populations to do this we will compare the average injury rate calculated for the total population to the observed rate for any sub population. "
   ]
  },
  {
   "cell_type": "code",
   "execution_count": 5,
   "metadata": {},
   "outputs": [
    {
     "name": "stdout",
     "output_type": "stream",
     "text": [
      "0.409022630732\n"
     ]
    }
   ],
   "source": [
    "print avg_glob"
   ]
  },
  {
   "cell_type": "code",
   "execution_count": 6,
   "metadata": {},
   "outputs": [
    {
     "data": {
      "image/png": "[encoded data removed]",
      "text/plain": [
       "<matplotlib.figure.Figure at 0x7f9fd33d8e50>"
      ]
     },
     "metadata": {},
     "output_type": "display_data"
    }
   ],
   "source": [
    "fig = plt.figure()\n",
    "ax = fig.add_subplot(111)\n",
    "injuries.plot(y='Rate', x='injuries', kind='bar', ax=ax, label='Rates for all Vehicles')\n",
    "plt.grid()\n",
    "ax.axvline(avg_glob, color='r', linewidth=2, label='Average number of injuries')\n",
    "plt.xlim(-1,6)\n",
    "plt.show()"
   ]
  },
  {
   "cell_type": "markdown",
   "metadata": {
    "collapsed": true
   },
   "source": [
    "# Comparing Sub-populations to the Overall Population\n",
    "Now we want to compare a particular sub population to the overall population. We will do this once as an example before running this analysis for larger groups. For starters we will use the Volvo VNL 2007, a vehicle we suspect has a slightly better injury rate than the general population."
   ]
  },
  {
   "cell_type": "code",
   "execution_count": 60,
   "metadata": {
    "collapsed": true
   },
   "outputs": [],
   "source": [
    "# format query and bind to dataframe\n",
    "query = session.query(AccidentMaster.injuries, func.count(AccidentMaster.injuries)).filter(AccidentMaster.vin==Vehicle.vin,\n",
    "                                                                                           Vehicle.make=='VOLVO TRUCK',\n",
    "                                                                                           Vehicle.model=='VNL',\n",
    "                                                                                           Vehicle.year==2007,\n",
    "                                                                                           AccidentMaster.vehicles_involved<=2\n",
    "                                                                                          ).group_by(AccidentMaster.injuries)\n",
    "vnl_injuries = pd.read_sql(query.statement,query.session.bind)\n",
    "vnl_injuries['Rate'] = vnl_injuries.count_1/vnl_injuries.count_1.sum()\n",
    "\n",
    "\n",
    "avg_vnl = (vnl_injuries.count_1*vnl_injuries.injuries).sum()/float(vnl_injuries.count_1.sum())"
   ]
  },
  {
   "cell_type": "markdown",
   "metadata": {},
   "source": [
    "The average injury rate for the 2007 VOLVO TRUCKS VNL is:"
   ]
  },
  {
   "cell_type": "code",
   "execution_count": 61,
   "metadata": {},
   "outputs": [
    {
     "name": "stdout",
     "output_type": "stream",
     "text": [
      "0.377313145878\n"
     ]
    }
   ],
   "source": [
    "print avg_vnl"
   ]
  },
  {
   "cell_type": "code",
   "execution_count": 62,
   "metadata": {},
   "outputs": [
    {
     "data": {
      "text/plain": [
       "Power_divergenceResult(statistic=6.7370014375157776, pvalue=0.009443322199587172)"
      ]
     },
     "execution_count": 62,
     "metadata": {},
     "output_type": "execute_result"
    }
   ],
   "source": [
    "joined = injuries.join(vnl_injuries[['count_1', 'Rate']], rsuffix= '_VNL').fillna(0)\n",
    "joined.iloc[1]=joined.iloc[1:].sum()\n",
    "joined.drop(joined.index[2:], inplace=True)\n",
    "joined.loc[1, 'injuries']=1\n",
    "chisquare(joined.count_1_VNL.values, joined.Rate.values*joined.count_1_VNL.sum())"
   ]
  },
  {
   "cell_type": "code",
   "execution_count": 63,
   "metadata": {},
   "outputs": [
    {
     "name": "stdout",
     "output_type": "stream",
     "text": [
      "4161.0\n"
     ]
    },
    {
     "data": {
      "text/html": [
       "<div>\n",
       "<style>\n",
       "    .dataframe thead tr:only-child th {\n",
       "        text-align: right;\n",
       "    }\n",
       "\n",
       "    .dataframe thead th {\n",
       "        text-align: left;\n",
       "    }\n",
       "\n",
       "    .dataframe tbody tr th {\n",
       "        vertical-align: top;\n",
       "    }\n",
       "</style>\n",
       "<table border=\"1\" class=\"dataframe\">\n",
       "  <thead>\n",
       "    <tr style=\"text-align: right;\">\n",
       "      <th></th>\n",
       "      <th>injuries</th>\n",
       "      <th>count_1</th>\n",
       "      <th>Rate</th>\n",
       "      <th>expected</th>\n",
       "      <th>count_1_VNL</th>\n",
       "      <th>Rate_VNL</th>\n",
       "    </tr>\n",
       "  </thead>\n",
       "  <tbody>\n",
       "    <tr>\n",
       "      <th>0</th>\n",
       "      <td>0.0</td>\n",
       "      <td>178391.0</td>\n",
       "      <td>0.678393</td>\n",
       "      <td>174684.781556</td>\n",
       "      <td>2901.0</td>\n",
       "      <td>0.697188</td>\n",
       "    </tr>\n",
       "    <tr>\n",
       "      <th>1</th>\n",
       "      <td>1.0</td>\n",
       "      <td>84570.0</td>\n",
       "      <td>0.321607</td>\n",
       "      <td>88276.218443</td>\n",
       "      <td>1260.0</td>\n",
       "      <td>0.302812</td>\n",
       "    </tr>\n",
       "  </tbody>\n",
       "</table>\n",
       "</div>"
      ],
      "text/plain": [
       "   injuries   count_1      Rate       expected  count_1_VNL  Rate_VNL\n",
       "0       0.0  178391.0  0.678393  174684.781556       2901.0  0.697188\n",
       "1       1.0   84570.0  0.321607   88276.218443       1260.0  0.302812"
      ]
     },
     "execution_count": 63,
     "metadata": {},
     "output_type": "execute_result"
    }
   ],
   "source": [
    "print joined.count_1_VNL.sum()\n",
    "joined"
   ]
  },
  {
   "cell_type": "code",
   "execution_count": 64,
   "metadata": {},
   "outputs": [
    {
     "data": {
      "image/png": "[encoded data removed]",
      "text/plain": [
       "<matplotlib.figure.Figure at 0x7f8d378d3190>"
      ]
     },
     "metadata": {},
     "output_type": "display_data"
    }
   ],
   "source": [
    "fig = plt.figure()\n",
    "ax = fig.add_subplot(111)\n",
    "joined[['Rate', 'Rate_VNL']].plot(kind='bar', ax=ax)\n",
    "plt.xticks([0,1], ['No Injuries', '1 or more Injuries'], rotation='horizontal')\n",
    "plt.grid()\n",
    "plt.show()"
   ]
  },
  {
   "cell_type": "code",
   "execution_count": 7,
   "metadata": {
    "scrolled": true
   },
   "outputs": [
    {
     "data": {
      "application/vnd.jupyter.widget-view+json": {
       "model_id": "a6a61fe155f74e5fb0db083ebb5be9cb",
       "version_major": 2,
       "version_minor": 0
      },
      "text/plain": [
       "A Jupyter Widget"
      ]
     },
     "metadata": {},
     "output_type": "display_data"
    }
   ],
   "source": [
    "population = DashBoard()"
   ]
  },
  {
   "cell_type": "code",
   "execution_count": 18,
   "metadata": {},
   "outputs": [
    {
     "name": "stdout",
     "output_type": "stream",
     "text": [
      "Population size: 7250.0\n",
      "Total Avg: 0.409022630732\n",
      "Population Avg 0.380413793103\n",
      "zero rate 0.702482758621\n",
      "Power_divergenceResult(statistic=19.283365615926421, pvalue=1.1268380619897965e-05)\n"
     ]
    }
   ],
   "source": [
    "pop_injuries=population.accidents1\n",
    "pop_injuries['Rate'] = pop_injuries.count_1/pop_injuries.count_1.sum()\n",
    "\n",
    "\n",
    "joined = injuries.join(pop_injuries[['count_1', 'Rate']], rsuffix= '_pop').fillna(0)\n",
    "joined.iloc[1]=joined.iloc[1:].sum()\n",
    "joined.drop(joined.index[2:], inplace=True)\n",
    "joined.loc[1, 'injuries']=1\n",
    "\n",
    "\n",
    "pop_avg = (pop_injuries.count_1*pop_injuries.injuries).sum()/float(pop_injuries.count_1.sum())\n",
    "print 'Population size: '+str(joined.count_1_pop.sum())\n",
    "print 'Total Avg: '+str(avg_glob)\n",
    "print 'Population Avg '+str(pop_avg)\n",
    "print 'zero rate '+ str(joined.Rate_pop[0])\n",
    "\n",
    "print chisquare(joined.count_1_pop.values, joined.Rate.values*joined.count_1_pop.sum())"
   ]
  },
  {
   "cell_type": "code",
   "execution_count": 19,
   "metadata": {},
   "outputs": [
    {
     "data": {
      "image/png": "[encoded data removed]",
      "text/plain": [
       "<matplotlib.figure.Figure at 0x7f9fcb1eda50>"
      ]
     },
     "metadata": {},
     "output_type": "display_data"
    }
   ],
   "source": [
    "fig = plt.figure()\n",
    "ax = fig.add_subplot(111)\n",
    "joined[['Rate', 'Rate_pop']].plot(kind='bar', ax=ax)\n",
    "plt.xticks([0,1], ['No Injuries', '1 or more Injuries'], rotation='horizontal')\n",
    "plt.grid()\n",
    "plt.show()"
   ]
  },
  {
   "cell_type": "code",
   "execution_count": null,
   "metadata": {
    "collapsed": true
   },
   "outputs": [],
   "source": []
  }
 ],
 "metadata": {
  "kernelspec": {
   "display_name": "Python 2",
   "language": "python",
   "name": "python2"
  },
  "language_info": {
   "codemirror_mode": {
    "name": "ipython",
    "version": 2
   },
   "file_extension": ".py",
   "mimetype": "text/x-python",
   "name": "python",
   "nbconvert_exporter": "python",
   "pygments_lexer": "ipython2",
   "version": "2.7.14"
  }
 },
 "nbformat": 4,
 "nbformat_minor": 2
}
